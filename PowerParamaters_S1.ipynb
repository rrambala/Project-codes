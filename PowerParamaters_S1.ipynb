{
 "cells": [
  {
   "cell_type": "markdown",
   "metadata": {},
   "source": [
    "Checking the connection possibility"
   ]
  },
  {
   "cell_type": "code",
   "execution_count": 1,
   "metadata": {},
   "outputs": [],
   "source": [
    "# Import SDK packages\n",
    "from AWSIoTPythonSDK.MQTTLib import AWSIoTMQTTShadowClient\n",
    "import pandas as pd\n",
    "import time\n",
    "import json\n",
    "import numpy as np\n",
    "from json import dumps\n",
    "from datetime import datetime"
   ]
  },
  {
   "cell_type": "code",
   "execution_count": 2,
   "metadata": {},
   "outputs": [],
   "source": [
    "# For certificate based connection\n",
    "myShadowClient = AWSIoTMQTTShadowClient(\"A0206753E_01\")\n",
    "\n",
    "# Configurations\n",
    "# For TLS mutual authentication\n",
    "myShadowClient.configureEndpoint(\"a18rvi21phvz6r-ats.iot.ap-southeast-1.amazonaws.com\", 8883)\n",
    "\n",
    "myShadowClient.configureCredentials('Amazon_Root_CA_1.pem.crt.txt', '8e4331113d-private.pem.key', '8e4331113d-certificate.pem.crt')\n",
    "\n",
    "myShadowClient.configureConnectDisconnectTimeout(10)  # 10 sec\n",
    "myShadowClient.configureMQTTOperationTimeout(5)  # 5 sec\n",
    "myShadowClient.connect()\n",
    "## Create a device shadow instance using persistent subscription\n",
    "myDeviceShadow = myShadowClient.createShadowHandlerWithName(\"A0206753E_01\", True)"
   ]
  },
  {
   "cell_type": "code",
   "execution_count": 3,
   "metadata": {},
   "outputs": [],
   "source": [
    "def myShadowUpdateCallback(payload, responseStatus, token):\n",
    "  print()\n",
    "  print('UPDATE: $aws/things/' + 'A0206753E_02' +\n",
    "    '/shadow/update/#')\n"
   ]
  },
  {
   "cell_type": "code",
   "execution_count": 4,
   "metadata": {},
   "outputs": [],
   "source": [
    "data = pd.read_csv('S1_ElecParam.csv',header=None)\n"
   ]
  },
  {
   "cell_type": "code",
   "execution_count": 5,
   "metadata": {
    "scrolled": true
   },
   "outputs": [
    {
     "name": "stdout",
     "output_type": "stream",
     "text": [
      "{\"id\": \"M1\", \"timestamp\": \"2019-09-20T16:31:55.177919\", \"Voltage\": 417.73, \"Current\": 102.62, \"PowerFactor\": 0.8, \"Watts\": 34322.23, \"VArs\": 26864.08}\n",
      "\n",
      "UPDATE: $aws/things/A0206753E_02/shadow/update/#\n",
      "{\"id\": \"M1\", \"timestamp\": \"2019-09-20T16:32:07.230179\", \"Voltage\": 418.04, \"Current\": 104.71, \"PowerFactor\": 0.8, \"Watts\": 35210.12, \"VArs\": 26872.12}\n",
      "\n",
      "UPDATE: $aws/things/A0206753E_02/shadow/update/#\n",
      "{\"id\": \"M1\", \"timestamp\": \"2019-09-20T16:32:17.243377\", \"Voltage\": 429.71, \"Current\": 102.09, \"PowerFactor\": 0.8, \"Watts\": 34064.6, \"VArs\": 25174.96}\n",
      "\n",
      "UPDATE: $aws/things/A0206753E_02/shadow/update/#\n",
      "{\"id\": \"M1\", \"timestamp\": \"2019-09-20T16:32:27.252846\", \"Voltage\": 422.84, \"Current\": 101.67, \"PowerFactor\": 0.8, \"Watts\": 34229.14, \"VArs\": 25090.05}\n",
      "\n",
      "UPDATE: $aws/things/A0206753E_02/shadow/update/#\n",
      "{\"id\": \"M1\", \"timestamp\": \"2019-09-20T16:32:37.307833\", \"Voltage\": 425.39, \"Current\": 104.08, \"PowerFactor\": 0.8, \"Watts\": 35712.83, \"VArs\": 26289.64}\n",
      "\n",
      "UPDATE: $aws/things/A0206753E_02/shadow/update/#\n",
      "{\"id\": \"M1\", \"timestamp\": \"2019-09-20T16:32:47.320776\", \"Voltage\": 419.4, \"Current\": 103.81, \"PowerFactor\": 0.8, \"Watts\": 34601.0, \"VArs\": 25761.4}\n",
      "\n",
      "UPDATE: $aws/things/A0206753E_02/shadow/update/#\n",
      "{\"id\": \"M1\", \"timestamp\": \"2019-09-20T16:32:57.340139\", \"Voltage\": 432.13, \"Current\": 102.04, \"PowerFactor\": 0.8, \"Watts\": 34032.49, \"VArs\": 26549.62}\n",
      "\n",
      "UPDATE: $aws/things/A0206753E_02/shadow/update/#\n",
      "{\"id\": \"M1\", \"timestamp\": \"2019-09-20T16:33:07.349808\", \"Voltage\": 420.68, \"Current\": 102.63, \"PowerFactor\": 0.8, \"Watts\": 35220.56, \"VArs\": 25290.52}\n",
      "\n",
      "UPDATE: $aws/things/A0206753E_02/shadow/update/#\n",
      "{\"id\": \"M1\", \"timestamp\": \"2019-09-20T16:33:17.396471\", \"Voltage\": 416.29, \"Current\": 104.65, \"PowerFactor\": 0.8, \"Watts\": 33905.56, \"VArs\": 25615.19}\n",
      "\n",
      "UPDATE: $aws/things/A0206753E_02/shadow/update/#\n",
      "{\"id\": \"M1\", \"timestamp\": \"2019-09-20T16:33:27.404910\", \"Voltage\": 433.87, \"Current\": 77.56, \"PowerFactor\": 0.2, \"Watts\": 6332.19, \"VArs\": 31403.3}\n",
      "\n",
      "UPDATE: $aws/things/A0206753E_02/shadow/update/#\n",
      "{\"id\": \"M1\", \"timestamp\": \"2019-09-20T16:33:37.415672\", \"Voltage\": 427.25, \"Current\": 15.11, \"PowerFactor\": 0.01, \"Watts\": 65.0, \"VArs\": 6501.04}\n",
      "\n",
      "UPDATE: $aws/things/A0206753E_02/shadow/update/#\n",
      "{\"id\": \"M1\", \"timestamp\": \"2019-09-20T16:33:47.426112\", \"Voltage\": 435.62, \"Current\": 5.17, \"PowerFactor\": 0.0, \"Watts\": 0.0, \"VArs\": 0.0}\n",
      "\n",
      "UPDATE: $aws/things/A0206753E_02/shadow/update/#\n",
      "{\"id\": \"M1\", \"timestamp\": \"2019-09-20T16:33:57.433170\", \"Voltage\": 418.53, \"Current\": 0.1, \"PowerFactor\": 0.0, \"Watts\": 0.0, \"VArs\": 0.0}\n",
      "\n",
      "UPDATE: $aws/things/A0206753E_02/shadow/update/#\n",
      "{\"id\": \"M1\", \"timestamp\": \"2019-09-20T16:34:07.442586\", \"Voltage\": 426.08, \"Current\": 0.0, \"PowerFactor\": 0.0, \"Watts\": 0.0, \"VArs\": 0.0}\n",
      "\n",
      "UPDATE: $aws/things/A0206753E_02/shadow/update/#\n",
      "{\"id\": \"M1\", \"timestamp\": \"2019-09-20T16:34:17.454567\", \"Voltage\": 429.79, \"Current\": 0.0, \"PowerFactor\": 0.0, \"Watts\": 0.0, \"VArs\": 0.0}\n",
      "\n",
      "UPDATE: $aws/things/A0206753E_02/shadow/update/#\n",
      "{\"id\": \"M1\", \"timestamp\": \"2019-09-20T16:34:27.464422\", \"Voltage\": 429.37, \"Current\": 0.0, \"PowerFactor\": 0.0, \"Watts\": 0.0, \"VArs\": 0.0}\n",
      "\n",
      "UPDATE: $aws/things/A0206753E_02/shadow/update/#\n",
      "{\"id\": \"M1\", \"timestamp\": \"2019-09-20T16:34:37.474493\", \"Voltage\": 420.68, \"Current\": 0.0, \"PowerFactor\": 0.0, \"Watts\": 0.0, \"VArs\": 0.0}\n",
      "\n",
      "UPDATE: $aws/things/A0206753E_02/shadow/update/#\n",
      "{\"id\": \"M1\", \"timestamp\": \"2019-09-20T16:34:47.485093\", \"Voltage\": 420.83, \"Current\": 0.0, \"PowerFactor\": 0.4, \"Watts\": 0.0, \"VArs\": 0.0}\n",
      "\n",
      "UPDATE: $aws/things/A0206753E_02/shadow/update/#\n",
      "{\"id\": \"M1\", \"timestamp\": \"2019-09-20T16:34:57.494895\", \"Voltage\": 420.3, \"Current\": 125.78, \"PowerFactor\": 0.9, \"Watts\": 49589.3, \"VArs\": 23529.82}\n",
      "\n",
      "UPDATE: $aws/things/A0206753E_02/shadow/update/#\n",
      "{\"id\": \"M1\", \"timestamp\": \"2019-09-20T16:35:07.547705\", \"Voltage\": 416.31, \"Current\": 126.05, \"PowerFactor\": 0.9, \"Watts\": 47688.62, \"VArs\": 24034.17}\n",
      "\n",
      "UPDATE: $aws/things/A0206753E_02/shadow/update/#\n",
      "{\"id\": \"M1\", \"timestamp\": \"2019-09-20T16:35:17.605390\", \"Voltage\": 425.97, \"Current\": 125.89, \"PowerFactor\": 0.9, \"Watts\": 47572.71, \"VArs\": 22875.2}\n",
      "\n",
      "UPDATE: $aws/things/A0206753E_02/shadow/update/#\n",
      "{\"id\": \"M1\", \"timestamp\": \"2019-09-20T16:35:27.657431\", \"Voltage\": 425.58, \"Current\": 125.76, \"PowerFactor\": 0.9, \"Watts\": 48481.47, \"VArs\": 22995.8}\n",
      "\n",
      "UPDATE: $aws/things/A0206753E_02/shadow/update/#\n",
      "{\"id\": \"M1\", \"timestamp\": \"2019-09-20T16:35:37.664170\", \"Voltage\": 417.7, \"Current\": 128.78, \"PowerFactor\": 0.9, \"Watts\": 49608.79, \"VArs\": 23133.82}\n",
      "\n",
      "UPDATE: $aws/things/A0206753E_02/shadow/update/#\n",
      "{\"id\": \"M1\", \"timestamp\": \"2019-09-20T16:35:47.679581\", \"Voltage\": 415.62, \"Current\": 126.13, \"PowerFactor\": 0.9, \"Watts\": 47946.98, \"VArs\": 23094.48}\n",
      "\n",
      "UPDATE: $aws/things/A0206753E_02/shadow/update/#\n",
      "{\"id\": \"M1\", \"timestamp\": \"2019-09-20T16:35:57.688907\", \"Voltage\": 424.17, \"Current\": 128.52, \"PowerFactor\": 0.9, \"Watts\": 50094.66, \"VArs\": 23535.01}\n",
      "\n",
      "UPDATE: $aws/things/A0206753E_02/shadow/update/#\n",
      "{\"id\": \"M1\", \"timestamp\": \"2019-09-20T16:36:07.696420\", \"Voltage\": 420.49, \"Current\": 130.94, \"PowerFactor\": 0.9, \"Watts\": 48713.95, \"VArs\": 23588.59}\n",
      "\n",
      "UPDATE: $aws/things/A0206753E_02/shadow/update/#\n",
      "{\"id\": \"M1\", \"timestamp\": \"2019-09-20T16:36:17.705202\", \"Voltage\": 425.89, \"Current\": 131.18, \"PowerFactor\": 0.9, \"Watts\": 50007.01, \"VArs\": 23449.09}\n",
      "\n",
      "UPDATE: $aws/things/A0206753E_02/shadow/update/#\n",
      "{\"id\": \"M1\", \"timestamp\": \"2019-09-20T16:36:27.715045\", \"Voltage\": 422.01, \"Current\": 128.04, \"PowerFactor\": 0.9, \"Watts\": 47300.65, \"VArs\": 23934.8}\n",
      "\n",
      "UPDATE: $aws/things/A0206753E_02/shadow/update/#\n",
      "{\"id\": \"M1\", \"timestamp\": \"2019-09-20T16:36:37.724436\", \"Voltage\": 428.07, \"Current\": 128.45, \"PowerFactor\": 0.9, \"Watts\": 47900.86, \"VArs\": 24388.42}\n",
      "\n",
      "UPDATE: $aws/things/A0206753E_02/shadow/update/#\n",
      "{\"id\": \"M1\", \"timestamp\": \"2019-09-20T16:36:47.733623\", \"Voltage\": 416.72, \"Current\": 125.91, \"PowerFactor\": 0.9, \"Watts\": 49757.89, \"VArs\": 23562.75}\n",
      "\n",
      "UPDATE: $aws/things/A0206753E_02/shadow/update/#\n"
     ]
    }
   ],
   "source": [
    "def json_serial(obj):\n",
    "    if isinstance(obj,datetime):\n",
    "        return obj.isoformat() \n",
    "\n",
    "for i in range(30):\n",
    "    t = datetime.utcnow()\n",
    "    #word = {\"state\": {\"reported\": {\"timestamp\":t, \"id\": \"FD001_XX\", \"message\": \"We are with ISRO\"}}}\n",
    "    word = {\"id\": data.iloc[i][0],\"timestamp\":t, \"Voltage\": data.iloc[i][1], \"Current\" :data.iloc[i][2], \"PowerFactor\" :data.iloc[i][3], \n",
    "            \"Watts\" :data.iloc[i][4], \"VArs\" :data.iloc[i][5]}\n",
    "    Imp =json.dumps(word, default=json_serial)\n",
    "    print(Imp)\n",
    "     \n",
    "    ## Shadow operations\n",
    "    #myDeviceShadow.shadowGet(myShadowUpdateCallback, 5)\n",
    "    myDeviceShadow.shadowUpdate(Imp, myShadowUpdateCallback, 5)\n",
    "    time.sleep(10)\n"
   ]
  },
  {
   "cell_type": "code",
   "execution_count": null,
   "metadata": {},
   "outputs": [],
   "source": []
  },
  {
   "cell_type": "code",
   "execution_count": null,
   "metadata": {},
   "outputs": [],
   "source": []
  },
  {
   "cell_type": "code",
   "execution_count": null,
   "metadata": {},
   "outputs": [],
   "source": []
  },
  {
   "cell_type": "code",
   "execution_count": null,
   "metadata": {},
   "outputs": [],
   "source": []
  }
 ],
 "metadata": {
  "kernelspec": {
   "display_name": "Python 3",
   "language": "python",
   "name": "python3"
  },
  "language_info": {
   "codemirror_mode": {
    "name": "ipython",
    "version": 3
   },
   "file_extension": ".py",
   "mimetype": "text/x-python",
   "name": "python",
   "nbconvert_exporter": "python",
   "pygments_lexer": "ipython3",
   "version": "3.7.3"
  }
 },
 "nbformat": 4,
 "nbformat_minor": 2
}
