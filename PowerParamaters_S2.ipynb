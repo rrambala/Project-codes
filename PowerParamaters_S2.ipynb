{
 "cells": [
  {
   "cell_type": "markdown",
   "metadata": {},
   "source": [
    "Checking the connection possibility"
   ]
  },
  {
   "cell_type": "code",
   "execution_count": 1,
   "metadata": {},
   "outputs": [],
   "source": [
    "# Import SDK packages\n",
    "from AWSIoTPythonSDK.MQTTLib import AWSIoTMQTTShadowClient\n",
    "import pandas as pd\n",
    "import time\n",
    "import json\n",
    "import numpy as np\n",
    "from json import dumps\n",
    "from datetime import datetime"
   ]
  },
  {
   "cell_type": "code",
   "execution_count": 2,
   "metadata": {},
   "outputs": [],
   "source": [
    "# For certificate based connection\n",
    "myShadowClient = AWSIoTMQTTShadowClient(\"A0206753E_02\")\n",
    "\n",
    "# Configurations\n",
    "# For TLS mutual authentication\n",
    "myShadowClient.configureEndpoint(\"a18rvi21phvz6r-ats.iot.ap-southeast-1.amazonaws.com\", 8883)\n",
    "\n",
    "myShadowClient.configureCredentials('Amazon_Root_CA_1.pem.crt.txt', 'e8efc2d627-private.pem.key', 'e8efc2d627-certificate.pem.crt')\n",
    "\n",
    "myShadowClient.configureConnectDisconnectTimeout(10)  # 10 sec\n",
    "myShadowClient.configureMQTTOperationTimeout(5)  # 5 sec\n",
    "myShadowClient.connect()\n",
    "## Create a device shadow instance using persistent subscription\n",
    "myDeviceShadow = myShadowClient.createShadowHandlerWithName(\"A0206753E_02\", True)"
   ]
  },
  {
   "cell_type": "code",
   "execution_count": 3,
   "metadata": {},
   "outputs": [],
   "source": [
    "def myShadowUpdateCallback(payload, responseStatus, token):\n",
    "  print()\n",
    "  print('UPDATE: $aws/things/' + 'A0206753E_02' +\n",
    "    '/shadow/update/#')\n"
   ]
  },
  {
   "cell_type": "code",
   "execution_count": 4,
   "metadata": {},
   "outputs": [],
   "source": [
    "data = pd.read_csv('S2_ElecParam.csv',header=None)\n"
   ]
  },
  {
   "cell_type": "code",
   "execution_count": 5,
   "metadata": {
    "scrolled": true
   },
   "outputs": [
    {
     "name": "stdout",
     "output_type": "stream",
     "text": [
      "{\"id\": \"M2\", \"timestamp\": \"2019-09-20T16:31:55.124887\", \"Voltage\": 440.08, \"Current\": 416.96, \"PowerFactor\": 0.8, \"Watts\": 141696.01, \"VArs\": 105088.39}\n",
      "\n",
      "UPDATE: $aws/things/A0206753E_02/shadow/update/#\n",
      "{\"id\": \"M2\", \"timestamp\": \"2019-09-20T16:32:07.200159\", \"Voltage\": 438.93, \"Current\": 413.24, \"PowerFactor\": 0.8, \"Watts\": 135843.68, \"VArs\": 107826.97}\n",
      "\n",
      "UPDATE: $aws/things/A0206753E_02/shadow/update/#\n",
      "{\"id\": \"M2\", \"timestamp\": \"2019-09-20T16:32:17.211354\", \"Voltage\": 423.31, \"Current\": 405.97, \"PowerFactor\": 0.8, \"Watts\": 141214.04, \"VArs\": 109484.77}\n",
      "\n",
      "UPDATE: $aws/things/A0206753E_02/shadow/update/#\n",
      "{\"id\": \"M2\", \"timestamp\": \"2019-09-20T16:32:27.223824\", \"Voltage\": 440.24, \"Current\": 415.62, \"PowerFactor\": 0.8, \"Watts\": 138746.9, \"VArs\": 108590.83}\n",
      "\n",
      "UPDATE: $aws/things/A0206753E_02/shadow/update/#\n",
      "{\"id\": \"M2\", \"timestamp\": \"2019-09-20T16:32:37.249725\", \"Voltage\": 440.27, \"Current\": 404.06, \"PowerFactor\": 0.8, \"Watts\": 144482.88, \"VArs\": 106734.57}\n",
      "\n",
      "UPDATE: $aws/things/A0206753E_02/shadow/update/#\n",
      "{\"id\": \"M2\", \"timestamp\": \"2019-09-20T16:32:47.259735\", \"Voltage\": 435.49, \"Current\": 419.54, \"PowerFactor\": 0.8, \"Watts\": 136942.32, \"VArs\": 106682.61}\n",
      "\n",
      "UPDATE: $aws/things/A0206753E_02/shadow/update/#\n",
      "{\"id\": \"M2\", \"timestamp\": \"2019-09-20T16:32:57.272094\", \"Voltage\": 429.81, \"Current\": 414.35, \"PowerFactor\": 0.8, \"Watts\": 144905.97, \"VArs\": 106014.38}\n",
      "\n",
      "UPDATE: $aws/things/A0206753E_02/shadow/update/#\n",
      "{\"id\": \"M2\", \"timestamp\": \"2019-09-20T16:33:07.280930\", \"Voltage\": 422.6, \"Current\": 419.03, \"PowerFactor\": 0.8, \"Watts\": 138520.84, \"VArs\": 101124.42}\n",
      "\n",
      "UPDATE: $aws/things/A0206753E_02/shadow/update/#\n",
      "{\"id\": \"M2\", \"timestamp\": \"2019-09-20T16:33:17.291465\", \"Voltage\": 427.24, \"Current\": 406.36, \"PowerFactor\": 0.8, \"Watts\": 138632.49, \"VArs\": 106388.18}\n",
      "\n",
      "UPDATE: $aws/things/A0206753E_02/shadow/update/#\n",
      "{\"id\": \"M2\", \"timestamp\": \"2019-09-20T16:33:27.297828\", \"Voltage\": 440.85, \"Current\": 354.87, \"PowerFactor\": 0.6, \"Watts\": 91835.73, \"VArs\": 125851.68}\n",
      "\n",
      "UPDATE: $aws/things/A0206753E_02/shadow/update/#\n",
      "{\"id\": \"M2\", \"timestamp\": \"2019-09-20T16:33:37.313543\", \"Voltage\": 437.61, \"Current\": 181.4, \"PowerFactor\": 0.4, \"Watts\": 31686.9, \"VArs\": 68533.97}\n",
      "\n",
      "UPDATE: $aws/things/A0206753E_02/shadow/update/#\n",
      "{\"id\": \"M2\", \"timestamp\": \"2019-09-20T16:33:47.328048\", \"Voltage\": 422.07, \"Current\": 70.11, \"PowerFactor\": 0.01, \"Watts\": 306.62, \"VArs\": 31352.33}\n",
      "\n",
      "UPDATE: $aws/things/A0206753E_02/shadow/update/#\n",
      "{\"id\": \"M2\", \"timestamp\": \"2019-09-20T16:33:57.350096\", \"Voltage\": 429.15, \"Current\": 5.12, \"PowerFactor\": 0.0, \"Watts\": 0.0, \"VArs\": 0.0}\n",
      "\n",
      "UPDATE: $aws/things/A0206753E_02/shadow/update/#\n",
      "{\"id\": \"M2\", \"timestamp\": \"2019-09-20T16:34:07.361543\", \"Voltage\": 430.92, \"Current\": 0.0, \"PowerFactor\": 0.0, \"Watts\": 0.0, \"VArs\": 0.0}\n",
      "\n",
      "UPDATE: $aws/things/A0206753E_02/shadow/update/#\n",
      "{\"id\": \"M2\", \"timestamp\": \"2019-09-20T16:34:17.377526\", \"Voltage\": 426.42, \"Current\": 0.0, \"PowerFactor\": 0.0, \"Watts\": 0.0, \"VArs\": 0.0}\n",
      "\n",
      "UPDATE: $aws/things/A0206753E_02/shadow/update/#\n",
      "{\"id\": \"M2\", \"timestamp\": \"2019-09-20T16:34:27.388371\", \"Voltage\": 433.62, \"Current\": 0.0, \"PowerFactor\": 0.0, \"Watts\": 0.0, \"VArs\": 0.0}\n",
      "\n",
      "UPDATE: $aws/things/A0206753E_02/shadow/update/#\n",
      "{\"id\": \"M2\", \"timestamp\": \"2019-09-20T16:34:37.420458\", \"Voltage\": 425.38, \"Current\": 0.0, \"PowerFactor\": 0.0, \"Watts\": 0.0, \"VArs\": 0.0}\n",
      "\n",
      "UPDATE: $aws/things/A0206753E_02/shadow/update/#\n",
      "{\"id\": \"M2\", \"timestamp\": \"2019-09-20T16:34:47.446067\", \"Voltage\": 432.49, \"Current\": 0.0, \"PowerFactor\": 0.4, \"Watts\": 0.0, \"VArs\": 0.0}\n",
      "\n",
      "UPDATE: $aws/things/A0206753E_02/shadow/update/#\n",
      "{\"id\": \"M2\", \"timestamp\": \"2019-09-20T16:34:57.456869\", \"Voltage\": 421.77, \"Current\": 75.78, \"PowerFactor\": 0.85, \"Watts\": 28488.32, \"VArs\": 16974.1}\n",
      "\n",
      "UPDATE: $aws/things/A0206753E_02/shadow/update/#\n",
      "{\"id\": \"M2\", \"timestamp\": \"2019-09-20T16:35:07.490666\", \"Voltage\": 421.04, \"Current\": 77.82, \"PowerFactor\": 0.85, \"Watts\": 28070.85, \"VArs\": 17398.63}\n",
      "\n",
      "UPDATE: $aws/things/A0206753E_02/shadow/update/#\n",
      "{\"id\": \"M2\", \"timestamp\": \"2019-09-20T16:35:17.599386\", \"Voltage\": 421.87, \"Current\": 75.84, \"PowerFactor\": 0.85, \"Watts\": 26820.88, \"VArs\": 18021.06}\n",
      "\n",
      "UPDATE: $aws/things/A0206753E_02/shadow/update/#\n",
      "{\"id\": \"M2\", \"timestamp\": \"2019-09-20T16:35:27.629412\", \"Voltage\": 434.56, \"Current\": 77.87, \"PowerFactor\": 0.85, \"Watts\": 28112.59, \"VArs\": 17874.69}\n",
      "\n",
      "UPDATE: $aws/things/A0206753E_02/shadow/update/#\n",
      "{\"id\": \"M2\", \"timestamp\": \"2019-09-20T16:35:37.641154\", \"Voltage\": 431.75, \"Current\": 76.75, \"PowerFactor\": 0.85, \"Watts\": 27926.31, \"VArs\": 18122.0}\n",
      "\n",
      "UPDATE: $aws/things/A0206753E_02/shadow/update/#\n",
      "{\"id\": \"M2\", \"timestamp\": \"2019-09-20T16:35:47.688576\", \"Voltage\": 434.6, \"Current\": 75.06, \"PowerFactor\": 0.85, \"Watts\": 28632.91, \"VArs\": 17383.34}\n",
      "\n",
      "UPDATE: $aws/things/A0206753E_02/shadow/update/#\n",
      "{\"id\": \"M2\", \"timestamp\": \"2019-09-20T16:35:57.697916\", \"Voltage\": 432.13, \"Current\": 76.65, \"PowerFactor\": 0.85, \"Watts\": 27215.68, \"VArs\": 17084.22}\n",
      "\n",
      "UPDATE: $aws/things/A0206753E_02/shadow/update/#\n",
      "{\"id\": \"M2\", \"timestamp\": \"2019-09-20T16:36:07.705439\", \"Voltage\": 425.7, \"Current\": 77.38, \"PowerFactor\": 0.85, \"Watts\": 27559.22, \"VArs\": 17353.19}\n",
      "\n",
      "UPDATE: $aws/things/A0206753E_02/shadow/update/#\n",
      "{\"id\": \"M2\", \"timestamp\": \"2019-09-20T16:36:17.715221\", \"Voltage\": 430.13, \"Current\": 78.72, \"PowerFactor\": 0.85, \"Watts\": 27352.93, \"VArs\": 17129.97}\n",
      "\n",
      "UPDATE: $aws/things/A0206753E_02/shadow/update/#\n",
      "{\"id\": \"M2\", \"timestamp\": \"2019-09-20T16:36:27.726039\", \"Voltage\": 427.72, \"Current\": 76.4, \"PowerFactor\": 0.85, \"Watts\": 28321.28, \"VArs\": 17097.79}\n",
      "\n",
      "UPDATE: $aws/things/A0206753E_02/shadow/update/#\n",
      "{\"id\": \"M2\", \"timestamp\": \"2019-09-20T16:36:37.735432\", \"Voltage\": 425.94, \"Current\": 77.01, \"PowerFactor\": 0.85, \"Watts\": 28038.79, \"VArs\": 16844.84}\n",
      "\n",
      "UPDATE: $aws/things/A0206753E_02/shadow/update/#\n",
      "{\"id\": \"M2\", \"timestamp\": \"2019-09-20T16:36:47.746644\", \"Voltage\": 426.27, \"Current\": 78.72, \"PowerFactor\": 0.85, \"Watts\": 28415.48, \"VArs\": 17139.88}\n",
      "\n",
      "UPDATE: $aws/things/A0206753E_02/shadow/update/#\n"
     ]
    }
   ],
   "source": [
    "def json_serial(obj):\n",
    "    if isinstance(obj,datetime):\n",
    "        return obj.isoformat() \n",
    "\n",
    "for i in range(30):\n",
    "    t = datetime.utcnow()\n",
    "    #word = {\"state\": {\"reported\": {\"timestamp\":t, \"id\": \"FD001_XX\", \"message\": \"We are with ISRO\"}}}\n",
    "    word = {\"id\": data.iloc[i][0],\"timestamp\":t, \"Voltage\": data.iloc[i][1], \"Current\" :data.iloc[i][2], \"PowerFactor\" :data.iloc[i][3], \n",
    "            \"Watts\" :data.iloc[i][4], \"VArs\" :data.iloc[i][5]}\n",
    "    Imp =json.dumps(word, default=json_serial)\n",
    "    print(Imp)\n",
    "     \n",
    "    ## Shadow operations\n",
    "    #myDeviceShadow.shadowGet(myShadowUpdateCallback, 5)\n",
    "    myDeviceShadow.shadowUpdate(Imp, myShadowUpdateCallback, 5)\n",
    "    time.sleep(10)\n"
   ]
  },
  {
   "cell_type": "code",
   "execution_count": null,
   "metadata": {},
   "outputs": [],
   "source": []
  },
  {
   "cell_type": "code",
   "execution_count": null,
   "metadata": {},
   "outputs": [],
   "source": []
  },
  {
   "cell_type": "code",
   "execution_count": null,
   "metadata": {},
   "outputs": [],
   "source": []
  },
  {
   "cell_type": "code",
   "execution_count": null,
   "metadata": {},
   "outputs": [],
   "source": []
  }
 ],
 "metadata": {
  "kernelspec": {
   "display_name": "Python 3",
   "language": "python",
   "name": "python3"
  },
  "language_info": {
   "codemirror_mode": {
    "name": "ipython",
    "version": 3
   },
   "file_extension": ".py",
   "mimetype": "text/x-python",
   "name": "python",
   "nbconvert_exporter": "python",
   "pygments_lexer": "ipython3",
   "version": "3.7.3"
  }
 },
 "nbformat": 4,
 "nbformat_minor": 2
}
