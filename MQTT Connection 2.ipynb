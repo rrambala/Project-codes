{
 "cells": [
  {
   "cell_type": "markdown",
   "metadata": {},
   "source": [
    "Checking the connection possibility"
   ]
  },
  {
   "cell_type": "code",
   "execution_count": 1,
   "metadata": {},
   "outputs": [],
   "source": [
    "# Import SDK packages\n",
    "from AWSIoTPythonSDK.MQTTLib import AWSIoTMQTTShadowClient\n",
    "import pandas as pd\n",
    "import time\n",
    "import json\n",
    "import numpy as np\n",
    "from json import dumps\n",
    "from datetime import datetime"
   ]
  },
  {
   "cell_type": "code",
   "execution_count": 2,
   "metadata": {},
   "outputs": [],
   "source": [
    "# For certificate based connection\n",
    "myShadowClient = AWSIoTMQTTShadowClient(\"A0206753E_02\")\n",
    "\n",
    "# Configurations\n",
    "# For TLS mutual authentication\n",
    "myShadowClient.configureEndpoint(\"a18rvi21phvz6r-ats.iot.ap-southeast-1.amazonaws.com\", 8883)\n",
    "\n",
    "myShadowClient.configureCredentials('Amazon_Root_CA_1.pem.crt.txt', 'e8efc2d627-private.pem.key', 'e8efc2d627-certificate.pem.crt')\n",
    "\n",
    "myShadowClient.configureConnectDisconnectTimeout(10)  # 10 sec\n",
    "myShadowClient.configureMQTTOperationTimeout(5)  # 5 sec\n",
    "myShadowClient.connect()\n",
    "## Create a device shadow instance using persistent subscription\n",
    "myDeviceShadow = myShadowClient.createShadowHandlerWithName(\"A0206753E_02\", True)"
   ]
  },
  {
   "cell_type": "code",
   "execution_count": 3,
   "metadata": {},
   "outputs": [],
   "source": [
    "def myShadowUpdateCallback(payload, responseStatus, token):\n",
    "  print()\n",
    "  print('UPDATE: $aws/things/' + 'A0206753E_02' +\n",
    "    '/shadow/update/#')\n"
   ]
  },
  {
   "cell_type": "code",
   "execution_count": 4,
   "metadata": {},
   "outputs": [],
   "source": [
    "Ed = pd.read_csv('train_FD002.csv',header=None)\n",
    "Col1 = Ed[0][:]\n",
    "y = np.asarray(list(map(str,Col1)))\n",
    "x = np.full(len(Ed),\"FD002_\")\n",
    "A = np.char.add(x,y)\n",
    "B = np.full(len(Ed),\"A0206753E\")\n",
    "Ed.loc[:,[0]] = A\n",
    "C = np.asarray(Ed)\n",
    "data = np.insert(C,1,B, axis=1)\n"
   ]
  },
  {
   "cell_type": "code",
   "execution_count": 5,
   "metadata": {
    "scrolled": true
   },
   "outputs": [
    {
     "name": "stdout",
     "output_type": "stream",
     "text": [
      "{\"id\": \"FD002_1\", \"timestamp\": \"2019-09-20T13:30:47.037918\", \"Matric ID\": \"A0206753E\", \"cycle\": 1, \"OS1\": 34.9983, \"OS2\": 0.84, \"OS3\": 100, \"S1\": 449.44, \"S2\": 555.32, \"S3\": 1358.61, \"S4\": 1137.23, \"S5\": 5.48, \"S6\": 8.0, \"S7\": 194.64, \"S8\": 2222.65, \"S9\": 8341.91, \"S10\": 1.02, \"S11\": 42.02, \"S12\": 183.06, \"S13\": 2387.72, \"S14\": 8048.56, \"S15\": 9.3461, \"S16\": 0.02, \"S17\": 334.0, \"S18\": 2223.0, \"S19\": 100.0, \"S20\": 14.73, \"S21\": 8.8071}\n",
      "\n",
      "UPDATE: $aws/things/A0206753E_02/shadow/update/#\n",
      "\n",
      "UPDATE: $aws/things/A0206753E_02/shadow/update/#\n",
      "{\"id\": \"FD002_1\", \"timestamp\": \"2019-09-20T13:31:01.175460\", \"Matric ID\": \"A0206753E\", \"cycle\": 2, \"OS1\": 41.9982, \"OS2\": 0.8408, \"OS3\": 100, \"S1\": 445.0, \"S2\": 549.9, \"S3\": 1353.22, \"S4\": 1125.78, \"S5\": 3.91, \"S6\": 5.71, \"S7\": 138.51, \"S8\": 2211.57, \"S9\": 8303.96, \"S10\": 1.02, \"S11\": 42.2, \"S12\": 130.42, \"S13\": 2387.66, \"S14\": 8072.3, \"S15\": 9.3774, \"S16\": 0.02, \"S17\": 330.0, \"S18\": 2212.0, \"S19\": 100.0, \"S20\": 10.41, \"S21\": 6.2665}\n",
      "\n",
      "UPDATE: $aws/things/A0206753E_02/shadow/update/#\n",
      "\n",
      "UPDATE: $aws/things/A0206753E_02/shadow/update/#\n",
      "{\"id\": \"FD002_1\", \"timestamp\": \"2019-09-20T13:31:11.181539\", \"Matric ID\": \"A0206753E\", \"cycle\": 3, \"OS1\": 24.9988, \"OS2\": 0.6218, \"OS3\": 60, \"S1\": 462.54, \"S2\": 537.31, \"S3\": 1256.76, \"S4\": 1047.45, \"S5\": 7.05, \"S6\": 9.02, \"S7\": 175.71, \"S8\": 1915.11, \"S9\": 8001.42, \"S10\": 0.94, \"S11\": 36.69, \"S12\": 164.22, \"S13\": 2028.03, \"S14\": 7864.87, \"S15\": 10.8941, \"S16\": 0.02, \"S17\": 309.0, \"S18\": 1915.0, \"S19\": 84.93, \"S20\": 14.08, \"S21\": 8.6723}\n",
      "\n",
      "\n",
      "UPDATE: $aws/things/A0206753E_02/shadow/update/#UPDATE: $aws/things/A0206753E_02/shadow/update/#\n",
      "\n",
      "{\"id\": \"FD002_1\", \"timestamp\": \"2019-09-20T13:31:21.187396\", \"Matric ID\": \"A0206753E\", \"cycle\": 4, \"OS1\": 42.0077, \"OS2\": 0.8416, \"OS3\": 100, \"S1\": 445.0, \"S2\": 549.51, \"S3\": 1354.03, \"S4\": 1126.38, \"S5\": 3.91, \"S6\": 5.71, \"S7\": 138.46, \"S8\": 2211.58, \"S9\": 8303.96, \"S10\": 1.02, \"S11\": 41.96, \"S12\": 130.72, \"S13\": 2387.61, \"S14\": 8068.66, \"S15\": 9.3528, \"S16\": 0.02, \"S17\": 329.0, \"S18\": 2212.0, \"S19\": 100.0, \"S20\": 10.59, \"S21\": 6.4701}\n",
      "\n",
      "UPDATE: $aws/things/A0206753E_02/shadow/update/#\n",
      "\n",
      "UPDATE: $aws/things/A0206753E_02/shadow/update/#\n",
      "{\"id\": \"FD002_1\", \"timestamp\": \"2019-09-20T13:31:31.193294\", \"Matric ID\": \"A0206753E\", \"cycle\": 5, \"OS1\": 25.0005, \"OS2\": 0.6203, \"OS3\": 60, \"S1\": 462.54, \"S2\": 537.07, \"S3\": 1257.71, \"S4\": 1047.93, \"S5\": 7.05, \"S6\": 9.03, \"S7\": 175.05, \"S8\": 1915.1, \"S9\": 7993.23, \"S10\": 0.94, \"S11\": 36.89, \"S12\": 164.31, \"S13\": 2028.0, \"S14\": 7861.23, \"S15\": 10.8963, \"S16\": 0.02, \"S17\": 309.0, \"S18\": 1915.0, \"S19\": 84.93, \"S20\": 14.13, \"S21\": 8.5286}\n",
      "\n",
      "UPDATE: $aws/things/A0206753E_02/shadow/update/#\n",
      "\n",
      "UPDATE: $aws/things/A0206753E_02/shadow/update/#\n",
      "{\"id\": \"FD002_1\", \"timestamp\": \"2019-09-20T13:31:41.198998\", \"Matric ID\": \"A0206753E\", \"cycle\": 6, \"OS1\": 25.0045, \"OS2\": 0.6205, \"OS3\": 60, \"S1\": 462.54, \"S2\": 537.02, \"S3\": 1266.38, \"S4\": 1048.72, \"S5\": 7.05, \"S6\": 9.03, \"S7\": 175.17, \"S8\": 1915.15, \"S9\": 7996.1, \"S10\": 0.94, \"S11\": 36.78, \"S12\": 164.27, \"S13\": 2028.01, \"S14\": 7868.87, \"S15\": 10.8912, \"S16\": 0.02, \"S17\": 306.0, \"S18\": 1915.0, \"S19\": 84.93, \"S20\": 14.28, \"S21\": 8.559}\n",
      "\n",
      "UPDATE: $aws/things/A0206753E_02/shadow/update/#\n",
      "\n",
      "UPDATE: $aws/things/A0206753E_02/shadow/update/#\n",
      "{\"id\": \"FD002_1\", \"timestamp\": \"2019-09-20T13:31:51.205029\", \"Matric ID\": \"A0206753E\", \"cycle\": 7, \"OS1\": 42.0043, \"OS2\": 0.8409, \"OS3\": 100, \"S1\": 445.0, \"S2\": 549.74, \"S3\": 1347.45, \"S4\": 1127.19, \"S5\": 3.91, \"S6\": 5.71, \"S7\": 138.71, \"S8\": 2211.62, \"S9\": 8307.75, \"S10\": 1.02, \"S11\": 42.19, \"S12\": 130.49, \"S13\": 2387.69, \"S14\": 8075.54, \"S15\": 9.3753, \"S16\": 0.02, \"S17\": 330.0, \"S18\": 2212.0, \"S19\": 100.0, \"S20\": 10.62, \"S21\": 6.4227}\n",
      "\n",
      "UPDATE: $aws/things/A0206753E_02/shadow/update/#\n",
      "\n",
      "UPDATE: $aws/things/A0206753E_02/shadow/update/#\n",
      "{\"id\": \"FD002_1\", \"timestamp\": \"2019-09-20T13:32:01.211117\", \"Matric ID\": \"A0206753E\", \"cycle\": 8, \"OS1\": 20.002, \"OS2\": 0.7002, \"OS3\": 100, \"S1\": 491.19, \"S2\": 607.44, \"S3\": 1481.69, \"S4\": 1252.36, \"S5\": 9.35, \"S6\": 13.65, \"S7\": 334.41, \"S8\": 2323.87, \"S9\": 8709.12, \"S10\": 1.08, \"S11\": 44.27, \"S12\": 315.11, \"S13\": 2387.99, \"S14\": 8049.26, \"S15\": 9.2369, \"S16\": 0.02, \"S17\": 365.0, \"S18\": 2324.0, \"S19\": 100.0, \"S20\": 24.33, \"S21\": 14.7989}\n",
      "\n",
      "UPDATE: $aws/things/A0206753E_02/shadow/update/#\n",
      "\n",
      "UPDATE: $aws/things/A0206753E_02/shadow/update/#\n",
      "{\"id\": \"FD002_1\", \"timestamp\": \"2019-09-20T13:32:11.216586\", \"Matric ID\": \"A0206753E\", \"cycle\": 9, \"OS1\": 41.9995, \"OS2\": 0.8407, \"OS3\": 100, \"S1\": 445.0, \"S2\": 549.33, \"S3\": 1348.23, \"S4\": 1127.45, \"S5\": 3.91, \"S6\": 5.71, \"S7\": 138.06, \"S8\": 2211.61, \"S9\": 8312.33, \"S10\": 1.02, \"S11\": 42.3, \"S12\": 130.97, \"S13\": 2387.62, \"S14\": 8065.78, \"S15\": 9.3878, \"S16\": 0.02, \"S17\": 331.0, \"S18\": 2212.0, \"S19\": 100.0, \"S20\": 10.69, \"S21\": 6.3802}\n",
      "\n",
      "UPDATE: $aws/things/A0206753E_02/shadow/update/#\n",
      "\n",
      "UPDATE: $aws/things/A0206753E_02/shadow/update/#\n",
      "{\"id\": \"FD002_1\", \"timestamp\": \"2019-09-20T13:32:21.221692\", \"Matric ID\": \"A0206753E\", \"cycle\": 10, \"OS1\": 42.0011, \"OS2\": 0.84, \"OS3\": 100, \"S1\": 445.0, \"S2\": 549.33, \"S3\": 1356.4, \"S4\": 1127.11, \"S5\": 3.91, \"S6\": 5.71, \"S7\": 138.7, \"S8\": 2211.56, \"S9\": 8302.31, \"S10\": 1.02, \"S11\": 42.02, \"S12\": 130.5, \"S13\": 2387.62, \"S14\": 8069.11, \"S15\": 9.3957, \"S16\": 0.02, \"S17\": 329.0, \"S18\": 2212.0, \"S19\": 100.0, \"S20\": 10.57, \"S21\": 6.2847}\n",
      "\n",
      "UPDATE: $aws/things/A0206753E_02/shadow/update/#\n",
      "\n",
      "UPDATE: $aws/things/A0206753E_02/shadow/update/#\n",
      "{\"id\": \"FD002_1\", \"timestamp\": \"2019-09-20T13:32:31.226743\", \"Matric ID\": \"A0206753E\", \"cycle\": 11, \"OS1\": 42.0029, \"OS2\": 0.84, \"OS3\": 100, \"S1\": 445.0, \"S2\": 549.81, \"S3\": 1352.72, \"S4\": 1126.23, \"S5\": 3.91, \"S6\": 5.71, \"S7\": 137.81, \"S8\": 2211.59, \"S9\": 8301.22, \"S10\": 1.02, \"S11\": 42.05, \"S12\": 130.41, \"S13\": 2387.64, \"S14\": 8076.44, \"S15\": 9.3871, \"S16\": 0.02, \"S17\": 331.0, \"S18\": 2212.0, \"S19\": 100.0, \"S20\": 10.51, \"S21\": 6.3394}\n",
      "\n",
      "UPDATE: $aws/things/A0206753E_02/shadow/update/#\n",
      "\n",
      "UPDATE: $aws/things/A0206753E_02/shadow/update/#\n",
      "{\"id\": \"FD002_1\", \"timestamp\": \"2019-09-20T13:32:41.232731\", \"Matric ID\": \"A0206753E\", \"cycle\": 12, \"OS1\": 0.0015, \"OS2\": 0.001, \"OS3\": 100, \"S1\": 518.67, \"S2\": 642.7, \"S3\": 1585.52, \"S4\": 1402.63, \"S5\": 14.62, \"S6\": 21.61, \"S7\": 553.93, \"S8\": 2388.12, \"S9\": 9038.84, \"S10\": 1.3, \"S11\": 47.34, \"S12\": 521.29, \"S13\": 2388.16, \"S14\": 8121.09, \"S15\": 8.3892, \"S16\": 0.03, \"S17\": 393.0, \"S18\": 2388.0, \"S19\": 100.0, \"S20\": 39.04, \"S21\": 23.2694}\n",
      "\n",
      "UPDATE: $aws/things/A0206753E_02/shadow/update/#\n",
      "\n",
      "UPDATE: $aws/things/A0206753E_02/shadow/update/#\n",
      "{\"id\": \"FD002_1\", \"timestamp\": \"2019-09-20T13:32:51.237761\", \"Matric ID\": \"A0206753E\", \"cycle\": 13, \"OS1\": 20.0003, \"OS2\": 0.7, \"OS3\": 100, \"S1\": 491.19, \"S2\": 607.67, \"S3\": 1488.74, \"S4\": 1256.1, \"S5\": 9.35, \"S6\": 13.65, \"S7\": 335.33, \"S8\": 2323.87, \"S9\": 8710.39, \"S10\": 1.08, \"S11\": 44.43, \"S12\": 314.77, \"S13\": 2388.04, \"S14\": 8048.52, \"S15\": 9.1968, \"S16\": 0.02, \"S17\": 365.0, \"S18\": 2324.0, \"S19\": 100.0, \"S20\": 24.4, \"S21\": 14.7202}\n",
      "\n",
      "UPDATE: $aws/things/A0206753E_02/shadow/update/#\n",
      "\n",
      "UPDATE: $aws/things/A0206753E_02/shadow/update/#\n",
      "{\"id\": \"FD002_1\", \"timestamp\": \"2019-09-20T13:33:01.245635\", \"Matric ID\": \"A0206753E\", \"cycle\": 14, \"OS1\": 42.001999999999995, \"OS2\": 0.8407, \"OS3\": 100, \"S1\": 445.0, \"S2\": 549.47, \"S3\": 1352.69, \"S4\": 1121.2, \"S5\": 3.91, \"S6\": 5.71, \"S7\": 138.6, \"S8\": 2211.59, \"S9\": 8312.22, \"S10\": 1.02, \"S11\": 42.11, \"S12\": 130.6, \"S13\": 2387.69, \"S14\": 8070.37, \"S15\": 9.3905, \"S16\": 0.02, \"S17\": 330.0, \"S18\": 2212.0, \"S19\": 100.0, \"S20\": 10.69, \"S21\": 6.3229999999999995}\n",
      "\n",
      "UPDATE: $aws/things/A0206753E_02/shadow/update/#\n",
      "\n",
      "UPDATE: $aws/things/A0206753E_02/shadow/update/#\n",
      "{\"id\": \"FD002_1\", \"timestamp\": \"2019-09-20T13:33:11.277593\", \"Matric ID\": \"A0206753E\", \"cycle\": 15, \"OS1\": 10.0038, \"OS2\": 0.2513, \"OS3\": 100, \"S1\": 489.05, \"S2\": 604.57, \"S3\": 1501.72, \"S4\": 1305.97, \"S5\": 10.52, \"S6\": 15.49, \"S7\": 395.21, \"S8\": 2318.87, \"S9\": 8765.1, \"S10\": 1.26, \"S11\": 45.49, \"S12\": 372.03, \"S13\": 2388.14, \"S14\": 8118.56, \"S15\": 8.6079, \"S16\": 0.03, \"S17\": 369.0, \"S18\": 2319.0, \"S19\": 100.0, \"S20\": 28.54, \"S21\": 17.1272}\n",
      "\n",
      "UPDATE: $aws/things/A0206753E_02/shadow/update/#\n",
      "\n",
      "UPDATE: $aws/things/A0206753E_02/shadow/update/#\n",
      "{\"id\": \"FD002_1\", \"timestamp\": \"2019-09-20T13:33:21.282636\", \"Matric ID\": \"A0206753E\", \"cycle\": 16, \"OS1\": 35.0053, \"OS2\": 0.8419, \"OS3\": 100, \"S1\": 449.44, \"S2\": 555.56, \"S3\": 1362.41, \"S4\": 1126.95, \"S5\": 5.48, \"S6\": 8.0, \"S7\": 194.44, \"S8\": 2222.76, \"S9\": 8336.74, \"S10\": 1.02, \"S11\": 41.74, \"S12\": 182.78, \"S13\": 2387.76, \"S14\": 8053.94, \"S15\": 9.3232, \"S16\": 0.02, \"S17\": 332.0, \"S18\": 2223.0, \"S19\": 100.0, \"S20\": 14.96, \"S21\": 8.9446}\n",
      "\n",
      "UPDATE: $aws/things/A0206753E_02/shadow/update/#\n",
      "\n",
      "UPDATE: $aws/things/A0206753E_02/shadow/update/#\n",
      "{\"id\": \"FD002_1\", \"timestamp\": \"2019-09-20T13:33:31.287671\", \"Matric ID\": \"A0206753E\", \"cycle\": 17, \"OS1\": 25.0077, \"OS2\": 0.6217, \"OS3\": 60, \"S1\": 462.54, \"S2\": 536.25, \"S3\": 1260.07, \"S4\": 1053.0, \"S5\": 7.05, \"S6\": 9.02, \"S7\": 175.21, \"S8\": 1915.12, \"S9\": 8005.82, \"S10\": 0.94, \"S11\": 36.73, \"S12\": 164.53, \"S13\": 2028.03, \"S14\": 7857.51, \"S15\": 10.8616, \"S16\": 0.02, \"S17\": 307.0, \"S18\": 1915.0, \"S19\": 84.93, \"S20\": 14.07, \"S21\": 8.5935}\n",
      "\n",
      "UPDATE: $aws/things/A0206753E_02/shadow/update/#\n",
      "\n",
      "UPDATE: $aws/things/A0206753E_02/shadow/update/#\n",
      "{\"id\": \"FD002_1\", \"timestamp\": \"2019-09-20T13:33:41.293657\", \"Matric ID\": \"A0206753E\", \"cycle\": 18, \"OS1\": 34.9996, \"OS2\": 0.8404, \"OS3\": 100, \"S1\": 449.44, \"S2\": 555.45, \"S3\": 1365.15, \"S4\": 1135.62, \"S5\": 5.48, \"S6\": 8.0, \"S7\": 193.77, \"S8\": 2222.7, \"S9\": 8336.57, \"S10\": 1.02, \"S11\": 41.98, \"S12\": 182.72, \"S13\": 2387.72, \"S14\": 8052.73, \"S15\": 9.3419, \"S16\": 0.02, \"S17\": 334.0, \"S18\": 2223.0, \"S19\": 100.0, \"S20\": 14.99, \"S21\": 8.9676}\n",
      "\n",
      "UPDATE: $aws/things/A0206753E_02/shadow/update/#\n",
      "\n",
      "UPDATE: $aws/things/A0206753E_02/shadow/update/#\n",
      "{\"id\": \"FD002_1\", \"timestamp\": \"2019-09-20T13:33:51.298687\", \"Matric ID\": \"A0206753E\", \"cycle\": 19, \"OS1\": 42.0018, \"OS2\": 0.84, \"OS3\": 100, \"S1\": 445.0, \"S2\": 549.07, \"S3\": 1349.47, \"S4\": 1134.82, \"S5\": 3.91, \"S6\": 5.71, \"S7\": 138.72, \"S8\": 2211.59, \"S9\": 8300.02, \"S10\": 1.02, \"S11\": 42.02, \"S12\": 130.42, \"S13\": 2387.63, \"S14\": 8070.7, \"S15\": 9.3798, \"S16\": 0.02, \"S17\": 332.0, \"S18\": 2212.0, \"S19\": 100.0, \"S20\": 10.49, \"S21\": 6.4195}\n",
      "\n",
      "UPDATE: $aws/things/A0206753E_02/shadow/update/#\n",
      "\n",
      "UPDATE: $aws/things/A0206753E_02/shadow/update/#\n",
      "{\"id\": \"FD002_1\", \"timestamp\": \"2019-09-20T13:34:01.304736\", \"Matric ID\": \"A0206753E\", \"cycle\": 20, \"OS1\": 20.002, \"OS2\": 0.7015, \"OS3\": 100, \"S1\": 491.19, \"S2\": 607.9, \"S3\": 1482.44, \"S4\": 1255.75, \"S5\": 9.35, \"S6\": 13.66, \"S7\": 334.43, \"S8\": 2323.94, \"S9\": 8708.9, \"S10\": 1.08, \"S11\": 44.43, \"S12\": 314.85, \"S13\": 2388.08, \"S14\": 8047.01, \"S15\": 9.2623, \"S16\": 0.02, \"S17\": 366.0, \"S18\": 2324.0, \"S19\": 100.0, \"S20\": 24.46, \"S21\": 14.6601}\n",
      "\n",
      "UPDATE: $aws/things/A0206753E_02/shadow/update/#\n",
      "\n",
      "UPDATE: $aws/things/A0206753E_02/shadow/update/#\n"
     ]
    }
   ],
   "source": [
    "def json_serial(obj):\n",
    "    if isinstance(obj,datetime):\n",
    "        return obj.isoformat() \n",
    "\n",
    "for i in range(20):\n",
    "    t = datetime.utcnow()\n",
    "    #word = {\"state\": {\"reported\": {\"timestamp\":t, \"id\": \"FD001_XX\", \"message\": \"We are with ISRO\"}}}\n",
    "    word = {\"id\": data[i][0],\"timestamp\":t, \"Matric ID\": data[i][1], \"cycle\" :data[i][2], \"OS1\" :data[i][3], \"OS2\" :data[i][4], \"OS3\" :data[i][5],\n",
    "           \"S1\" :data[i][6],\"S2\":data[i][7],\"S3\":data[i][8],\"S4\":data[i][9],\"S5\":data[i][10],\"S6\":data[i][11],\"S7\":data[i][12],\n",
    "           \"S8\":data[i][13],\"S9\":data[i][14],\"S10\":data[i][15],\"S11\":data[i][16],\"S12\":data[i][17],\"S13\":data[i][18],\"S14\":data[i][19],\n",
    "           \"S15\":data[i][20],\"S16\":data[i][21],\"S17\":data[i][22],\"S18\":data[i][23],\"S19\":data[i][24],\"S20\":data[i][25],\"S21\":data[i][26]}\n",
    "    Imp =json.dumps(word, default=json_serial)\n",
    "    print(Imp)\n",
    "     \n",
    "    ## Shadow operations\n",
    "    myDeviceShadow.shadowGet(myShadowUpdateCallback, 5)\n",
    "    myDeviceShadow.shadowUpdate(Imp, myShadowUpdateCallback, 5)\n",
    "    time.sleep(10)\n"
   ]
  },
  {
   "cell_type": "code",
   "execution_count": null,
   "metadata": {},
   "outputs": [],
   "source": []
  },
  {
   "cell_type": "code",
   "execution_count": null,
   "metadata": {},
   "outputs": [],
   "source": []
  },
  {
   "cell_type": "code",
   "execution_count": null,
   "metadata": {},
   "outputs": [],
   "source": []
  },
  {
   "cell_type": "code",
   "execution_count": null,
   "metadata": {},
   "outputs": [],
   "source": []
  }
 ],
 "metadata": {
  "kernelspec": {
   "display_name": "Python 3",
   "language": "python",
   "name": "python3"
  },
  "language_info": {
   "codemirror_mode": {
    "name": "ipython",
    "version": 3
   },
   "file_extension": ".py",
   "mimetype": "text/x-python",
   "name": "python",
   "nbconvert_exporter": "python",
   "pygments_lexer": "ipython3",
   "version": "3.7.3"
  }
 },
 "nbformat": 4,
 "nbformat_minor": 2
}
